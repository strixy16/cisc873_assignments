{
  "nbformat": 4,
  "nbformat_minor": 0,
  "metadata": {
    "kernelspec": {
      "name": "python3",
      "display_name": "Python 3"
    },
    "colab": {
      "name": "Code.ipynb",
      "provenance": [],
      "collapsed_sections": [
        "iLHDvPmwvqOu"
      ]
    },
    "accelerator": "GPU"
  },
  "cells": [
    {
      "cell_type": "markdown",
      "metadata": {
        "id": "gHV3lu2oOBx8"
      },
      "source": [
        "# Environment Setup"
      ]
    },
    {
      "cell_type": "code",
      "metadata": {
        "id": "59kMRWkpNl_t"
      },
      "source": [
        "import numpy as np\n",
        "from tqdm.notebook import tqdm\n",
        "from sklearn.model_selection import train_test_split\n",
        "from tensorflow.keras.preprocessing.text import Tokenizer\n",
        "from tensorflow.keras.preprocessing.sequence import pad_sequences\n",
        "import tensorflow as tf\n",
        "from tensorflow.math import segment_mean\n",
        "from tensorflow import keras\n",
        "from tensorflow.keras import Input, Model\n",
        "from tensorflow.keras.layers import Embedding, Dense\n",
        "from tensorflow.keras.optimizers import Adam\n",
        "import math\n",
        "import pandas as pd \n",
        "import matplotlib.pyplot as plt"
      ],
      "execution_count": 2,
      "outputs": []
    },
    {
      "cell_type": "code",
      "metadata": {
        "id": "HxhJp4Xn_jv9"
      },
      "source": [
        "!pip install --quiet tf2_gnn\n",
        "\n",
        "# https://github.com/microsoft/tf2-gnn\n",
        "# https://github.com/microsoft/tf2-gnn/blob/master/tf2_gnn/layers/gnn.py\n",
        "\n",
        "from tf2_gnn.layers.gnn import GNN, GNNInput\n",
        "from tf2_gnn.layers.message_passing import RGAT, MessagePassingInput"
      ],
      "execution_count": null,
      "outputs": []
    },
    {
      "cell_type": "markdown",
      "metadata": {
        "id": "Gr-GPYIIOKme"
      },
      "source": [
        "# Data Setup"
      ]
    },
    {
      "cell_type": "markdown",
      "metadata": {
        "id": "KTujX_2C_jv9"
      },
      "source": [
        "## Read SDF format data (structured-data format)"
      ]
    },
    {
      "cell_type": "code",
      "metadata": {
        "id": "dl1YJn8o_jv9"
      },
      "source": [
        "def read_sdf(file):\n",
        "    # Open the file in read mode\n",
        "    with open(file, 'r') as rf:\n",
        "        # Read file into content\n",
        "        content = rf.read()\n",
        "\n",
        "    # Split the file up into a list by specified string \n",
        "    samples = content.split('$$$$')\n",
        "    \n",
        "    def parse_sample(s):\n",
        "        # Split s at line boundaries (newline or return characters)\n",
        "        lines = s.splitlines()\n",
        "        # Lists for atoms, bonds, and label for the graph\n",
        "        links = []\n",
        "        nodes = []\n",
        "        label = 0\n",
        "        # For each line in s\n",
        "        for l in lines:\n",
        "            # Getting graph label\n",
        "            # If line only contains 1.0 or -1.0, label as positive or negative respectively\n",
        "            if l.strip() == '1.0':\n",
        "                label = 1           # positive label\n",
        "            if l.strip() == '-1.0':\n",
        "                label = 0           # negative label\n",
        "            # If line starts with 4 spaces, it's an atom, set up as node\n",
        "            if l.startswith('    '):\n",
        "                # Split the string at any whitespace\n",
        "                feature = l.split()\n",
        "                # Get the atom letter \n",
        "                node = feature[3]\n",
        "                # add the atom to the list of nodes\n",
        "                nodes.append(node)\n",
        "            # If line starts with 1 spaces, it's a bond, set up as edge\n",
        "            elif l.startswith(' '):\n",
        "                # split values into a list\n",
        "                lnk = l.split()\n",
        "                # edge: (from, to,) (1-based index)\n",
        "                if int(lnk[0]) - 1 < len(nodes):\n",
        "                    links.append((\n",
        "                        int(lnk[0])-1, \n",
        "                        int(lnk[1])-1, # zero-based index\n",
        "                        # int(lnk[2]) ignore edge weight\n",
        "                    ))\n",
        "        # Return the nodes, links, and the label for the compound graph\n",
        "        return nodes, np.array(links), label\n",
        "    \n",
        "    # Generate the graph representation for each compound in samples\n",
        "    return [parse_sample(s) for s in tqdm(samples) if len(s[0]) > 0]\n",
        "                  "
      ],
      "execution_count": 4,
      "outputs": []
    },
    {
      "cell_type": "code",
      "metadata": {
        "id": "GUNUf_fd_jv9"
      },
      "source": [
        "# Load in training set and transform to graph configurations\n",
        "training_set = read_sdf('train.sdf')\n",
        "# Split into training and validation, holding out 15% of the data\n",
        "training_set, validation_set = train_test_split(training_set, test_size=0.15,)"
      ],
      "execution_count": null,
      "outputs": []
    },
    {
      "cell_type": "code",
      "metadata": {
        "id": "jxZFqqxv_jv9"
      },
      "source": [
        "# Load in testing set and transform to graph configuration\n",
        "testing_set  = read_sdf('test_x.sdf')"
      ],
      "execution_count": null,
      "outputs": []
    },
    {
      "cell_type": "code",
      "metadata": {
        "id": "etv41xsn_jv9"
      },
      "source": [
        "# Validating data load in\n",
        "print(training_set[0][1])"
      ],
      "execution_count": null,
      "outputs": []
    },
    {
      "cell_type": "markdown",
      "metadata": {
        "id": "Lsjx5Due9e54"
      },
      "source": [
        "# Visualizing a Sample"
      ]
    },
    {
      "cell_type": "code",
      "metadata": {
        "id": "mdDHWhwF9jOA"
      },
      "source": [
        "!pip install --quiet networkx\n",
        "import networkx as nx\n",
        "import matplotlib.pyplot as plt\n",
        "from matplotlib import cm"
      ],
      "execution_count": 8,
      "outputs": []
    },
    {
      "cell_type": "code",
      "metadata": {
        "id": "olWQ6ag_9neb"
      },
      "source": [
        "colors = cm.rainbow(np.linspace(0, 1, 100))\n",
        "def visualize(sample):\n",
        "    G=nx.Graph()\n",
        "    nodes = sample[0]\n",
        "    edges = sample[1]\n",
        "    \n",
        "    labeldict={}\n",
        "    node_color=[]\n",
        "    for i,n in enumerate(nodes):\n",
        "        G.add_node(i)\n",
        "        labeldict[i]=n\n",
        "        node_color.append(colors[hash(n)%len(colors)])\n",
        "\n",
        "    # a list of nodes:\n",
        "    for e in edges:\n",
        "        G.add_edge(e[0], e[1])\n",
        "        \n",
        "    nx.draw(G, labels=labeldict, with_labels = True, node_color = node_color)\n",
        "    plt.show()\n",
        "    \n",
        "    return G"
      ],
      "execution_count": 9,
      "outputs": []
    },
    {
      "cell_type": "code",
      "metadata": {
        "colab": {
          "base_uri": "https://localhost:8080/",
          "height": 336
        },
        "id": "RPHv8oE_9pPD",
        "outputId": "0e848619-13d1-4d3f-a75f-ee70d958cf4b"
      },
      "source": [
        "plt.clf()\n",
        "visualize(training_set[20])"
      ],
      "execution_count": 10,
      "outputs": [
        {
          "output_type": "display_data",
          "data": {
            "image/png": "[encoded data removed]",
            "text/plain": [
              "<Figure size 432x288 with 1 Axes>"
            ]
          },
          "metadata": {
            "tags": []
          }
        },
        {
          "output_type": "execute_result",
          "data": {
            "text/plain": [
              "<networkx.classes.graph.Graph at 0x7f51c251d898>"
            ]
          },
          "metadata": {
            "tags": []
          },
          "execution_count": 10
        }
      ]
    },
    {
      "cell_type": "markdown",
      "metadata": {
        "id": "gk6uvY5i_jv9"
      },
      "source": [
        "# Preprocessing:"
      ]
    },
    {
      "cell_type": "code",
      "metadata": {
        "id": "1YQsBt0s_jv9"
      },
      "source": [
        "# Max number of sequences to store in vocabulary\n",
        "max_vocab = 500\n",
        "# Max length of sequences in vocabulary - not used??\n",
        "max_len = 100\n",
        "\n",
        "\n",
        "# build vocabulary from training set\n",
        "# Getting list of nodes for each compound\n",
        "all_nodes = [s[0] for s in training_set]\n",
        "tokenizer = Tokenizer(num_words=max_vocab)\n",
        "tokenizer.fit_on_texts(all_nodes)"
      ],
      "execution_count": 11,
      "outputs": []
    },
    {
      "cell_type": "code",
      "metadata": {
        "id": "LF3v1uXd_jv9"
      },
      "source": [
        "import random\n",
        "random.seed(0)\n",
        "\n",
        "# Generating sparse representation of graphs \n",
        "# Graphs of minibatch are joined into single graph of many disconnected components\n",
        "def prepare_single_batch(samples):\n",
        "    # Extract just the list of atoms for each compound\n",
        "    sample_nodes = [s[0] for s in samples]\n",
        "    # Transform list of atoms to sequence of integers\n",
        "    sample_nodes = tokenizer.texts_to_sequences(sample_nodes)\n",
        "    # Pad sequences so they are all the same length for the batch\n",
        "    sample_nodes = pad_sequences(sample_nodes, padding='post')\n",
        "    # Get max number of nodes in a compound for this batch \n",
        "    # shape[0] is the number of compounds\n",
        "    max_nodes_len = np.shape(sample_nodes)[1]\n",
        "    # enumerate adds a counter to the samples\n",
        "    # i is the index, s is the sample, s[1] is the edge list\n",
        "    # Creating an adjacency matrix for the connections in each sample\n",
        "    edges = [s[1]+i*max_nodes_len for i,s in enumerate(samples)]\n",
        "    # keep only rows that have connections in them\n",
        "    edges = [e for e in edges if len(e) > 0]\n",
        "    # tensor that maps the nodes to the correct graph in the batch\n",
        "    node_to_graph = [[i]*max_nodes_len for i in range(len(samples))]\n",
        "    \n",
        "    # reshape nodes into single vector for all nodes in batch\n",
        "    all_nodes = np.reshape(sample_nodes, -1)\n",
        "    # concatenate edge matrices for all the samples in batch into one array\n",
        "    # this is an adjacency list\n",
        "    all_edges = np.concatenate(edges)\n",
        "    # reshape into single vector\n",
        "    node_to_graph = np.reshape(node_to_graph, -1)\n",
        "    # Returns a dictionary of the outputs \n",
        "    return {\n",
        "        'data': all_nodes, # representation of each node in the graph \n",
        "        'edges': all_edges, # edge pairs as an adjacency list \n",
        "        'node2graph': node_to_graph, # map of nodes to graph in the batch\n",
        "    }, np.array([s[2] for s in samples]) # labels for each compound in the batch\n",
        "\n",
        "\n",
        "# Generating batches, default size 16 \n",
        "def gen_batch(dataset, batch_size=16, repeat=False, shuffle=True):\n",
        "    while True:\n",
        "        # Make dataset to list type for shuffling\n",
        "        dataset = list(dataset)\n",
        "        if shuffle:\n",
        "            # reorganize the order of the compounds\n",
        "            random.shuffle(dataset)\n",
        "        l = len(dataset)\n",
        "        for ndx in range(0, l, batch_size):\n",
        "            # get out batch_size number of samples \n",
        "            batch_samples = dataset[ndx:min(ndx + batch_size, l)]\n",
        "            np.shape(batch_samples)\n",
        "            # create the batch by combining all the nodes into one matrix and \n",
        "            # all the edges into another matrix for the batch\n",
        "            yield prepare_single_batch(batch_samples)\n",
        "        if not repeat:\n",
        "            break\n"
      ],
      "execution_count": 12,
      "outputs": []
    },
    {
      "cell_type": "code",
      "metadata": {
        "id": "S2_UpzeL_jv9"
      },
      "source": [
        "# showing one batch:\n",
        "for train_batch in gen_batch(training_set, batch_size=4):\n",
        "    # Printing the key and value for each of the elements returned by gen_batch\n",
        "    for k,v in train_batch[0].items():\n",
        "        print(\"k:\", k)\n",
        "        print(\"v:\", v)\n",
        "        pass\n",
        "    print('label', train_batch[1])\n",
        "    break"
      ],
      "execution_count": null,
      "outputs": []
    },
    {
      "cell_type": "markdown",
      "metadata": {
        "id": "pvb26M5ZOSCc"
      },
      "source": [
        "# Model Setup and Training"
      ]
    },
    {
      "cell_type": "markdown",
      "metadata": {
        "id": "QjPyablVOVVu"
      },
      "source": [
        "## Template"
      ]
    },
    {
      "cell_type": "code",
      "metadata": {
        "id": "WwbPbFbb_jv9"
      },
      "source": [
        "# Input layer\n",
        "data = keras.Input(batch_shape=(None,)) # [num_nodes, ]\n",
        "\n",
        "# the first dim is different to the previous one. it is the total number of edges in this batch\n",
        "edge = keras.Input(batch_shape=(None, 2), dtype=tf.int32) # [num_edges, 2]\n",
        "node2graph = keras.Input(batch_shape=(None,), dtype=tf.int32) # [num_nodes,]\n",
        "\n",
        "embedded = Embedding(tokenizer.num_words, 20)(data) # [num_nodes, 20]\n",
        "\n",
        "# number of graphs (number of samples)\n",
        "num_graph = tf.reduce_max(node2graph)+1 \n",
        "\n",
        "gnn_input = GNNInput(\n",
        "    node_features=embedded, # original representation of each node in the graph\n",
        "    adjacency_lists=(edge,), # edges as adjacency list (e.g. [a,b] is an edge from node a to node b)\n",
        "    node_to_graph_map=node2graph, # node_to_graph_map[v] = i means that node v belongs to graph i in the batch\n",
        "    num_graphs=num_graph, # number of graphs in a batch\n",
        ")\n",
        "\n",
        "# https://github.com/microsoft/tf2-gnn/blob/master/tf2_gnn/layers/gnn.py\n",
        "params = GNN.get_default_hyperparameters()\n",
        "params[\"hidden_dim\"] = 32  # number of nodes/neurons in the hidden layers\n",
        "gnn_layer = GNN(params)    # build the GNN with the set parameters\n",
        "gnn_out = gnn_layer(gnn_input) # [num_nodes, hidden_dim] \n",
        "\n",
        "print('gnn_out:', gnn_out)\n",
        "\n",
        "# https://www.tensorflow.org/api_docs/python/tf/math/segment_mean\n",
        "# Dimension reduction for passing to Dense layer\n",
        "avg = segment_mean(\n",
        "    data=gnn_out,\n",
        "    segment_ids=node2graph\n",
        ") # [batch_size, hidden_dim]\n",
        "print('mean:', avg)\n",
        "\n",
        "# Dense layer for final prediction\n",
        "pred = Dense(1, activation='sigmoid')(avg) # [None, 1]\n",
        "print('pred:', pred)\n",
        "\n",
        "# Build the model\n",
        "model = Model(\n",
        "    inputs={\n",
        "        'data': data,\n",
        "        'edges': edge,\n",
        "        'node2graph': node2graph,\n",
        "    },\n",
        "    outputs=pred,\n",
        "    name='Template'\n",
        ")\n",
        "\n",
        "# Configure model for training\n",
        "model.compile(\n",
        "    loss='BinaryCrossentropy',\n",
        "    # Metrics to be evaluated by the model during training and testing\n",
        "    metrics=['AUC']\n",
        ")\n",
        "\n",
        "# Print out info about the model\n",
        "model.summary()"
      ],
      "execution_count": null,
      "outputs": []
    },
    {
      "cell_type": "code",
      "metadata": {
        "id": "19VjaDVO_jv-"
      },
      "source": [
        "# Number of training examples to use in one iteration\n",
        "# In this case, number of compounds to combine into one large graph\n",
        "batch_size = 16\n",
        "# Getting number of batches based on the size for steps_per_epoch argument \n",
        "num_batchs = math.ceil(len(training_set) / batch_size)\n",
        "num_batchs_validation = math.ceil(len(validation_set) / batch_size)\n",
        "\n",
        "# Number of forward and backward passes to perform through network \n",
        "epochs = 5\n",
        "\n",
        "# Fit model to training data\n",
        "history = model.fit(\n",
        "    # Generate batches for training using function\n",
        "    gen_batch(\n",
        "        training_set, batch_size=batch_size, repeat=True\n",
        "    ),\n",
        "    steps_per_epoch=num_batchs, # Total number of steps before declaring one epoch finished and starting the next epoch\n",
        "    epochs=epochs,\n",
        "    # Generate batches for validation\n",
        "    validation_data=gen_batch(\n",
        "        validation_set, batch_size=batch_size, repeat=True\n",
        "    ),\n",
        "    validation_steps=num_batchs_validation,\n",
        ")"
      ],
      "execution_count": null,
      "outputs": []
    },
    {
      "cell_type": "markdown",
      "metadata": {
        "id": "88MJYM0SFdKK"
      },
      "source": [
        "## Aggregation Model 1: R-GCN"
      ]
    },
    {
      "cell_type": "code",
      "metadata": {
        "id": "9v37DysXFmOZ"
      },
      "source": [
        "# Input layer\n",
        "data = keras.Input(batch_shape=(None,)) # [num_nodes, ]\n",
        "\n",
        "# the first dim is different to the previous one. it is the total number of edges in this batch\n",
        "edge = keras.Input(batch_shape=(None, 2), dtype=tf.int32) # [num_edges, 2]\n",
        "node2graph = keras.Input(batch_shape=(None,), dtype=tf.int32) # [num_nodes,]\n",
        "\n",
        "embedded = Embedding(tokenizer.num_words, 20)(data) # [num_nodes, 20]\n",
        "\n",
        "# number of graphs (number of samples)\n",
        "num_graph = tf.reduce_max(node2graph)+1 \n",
        "\n",
        "gnn_input = GNNInput(\n",
        "    node_features=embedded, # original representation of each node in the graph\n",
        "    adjacency_lists=(edge,), # edges as adjacency list (e.g. [a,b] is an edge from node a to node b)\n",
        "    node_to_graph_map=node2graph, # node_to_graph_map[v] = i means that node v belongs to graph i in the batch\n",
        "    num_graphs=num_graph, # number of graphs in a batch\n",
        ")\n",
        "\n",
        "# https://github.com/microsoft/tf2-gnn/blob/master/tf2_gnn/layers/gnn.py\n",
        "params = GNN.get_default_hyperparameters()\n",
        "params[\"num_layers\"] = 3                        # Number of layers in GNN\n",
        "params[\"message_calculation_class\"] = \"rgcn\"    # Aggregation method\n",
        "params[\"hidden_dim\"] = 64                       # Number of nodes/neurons in the hidden layers\n",
        "gnn_layer = GNN(params) \n",
        "gnn_out = gnn_layer(gnn_input) # [num_nodes, hidden_dim]\n",
        "\n",
        "print('gnn_out:', gnn_out)\n",
        "\n",
        "# https://www.tensorflow.org/api_docs/python/tf/math/segment_mean\n",
        "avg = segment_mean(\n",
        "    data=gnn_out,\n",
        "    segment_ids=node2graph\n",
        ") # [batch_size, hidden_dim]\n",
        "print('mean:', avg)\n",
        "\n",
        "pred = Dense(1, activation='sigmoid')(avg) # [None, 1]\n",
        "print('pred:', pred)\n",
        "\n",
        "model = Model(\n",
        "    inputs={\n",
        "        'data': data,\n",
        "        'edges': edge,\n",
        "        'node2graph': node2graph,\n",
        "    },\n",
        "    outputs=pred,\n",
        "    name='RGCN_2'\n",
        ")\n",
        "\n",
        "model.compile(\n",
        "    loss='BinaryCrossentropy',\n",
        "    metrics=['AUC']\n",
        ")\n",
        "\n",
        "model.summary()"
      ],
      "execution_count": null,
      "outputs": []
    },
    {
      "cell_type": "code",
      "metadata": {
        "id": "pJlSZ559Fomj"
      },
      "source": [
        "print(\"Training: \", model.name)\n",
        "batch_size = 16\n",
        "num_batchs = math.ceil(len(training_set) / batch_size)\n",
        "num_batchs_validation = math.ceil(len(validation_set) / batch_size)\n",
        "\n",
        "epochs = 15\n",
        "\n",
        "history = model.fit(\n",
        "    gen_batch(\n",
        "        training_set, batch_size=batch_size, repeat=True\n",
        "    ),\n",
        "    steps_per_epoch=num_batchs,\n",
        "    epochs=epochs,\n",
        "    validation_data=gen_batch(\n",
        "        validation_set, batch_size=batch_size, repeat=True\n",
        "    ),\n",
        "    validation_steps=num_batchs_validation,\n",
        ")"
      ],
      "execution_count": null,
      "outputs": []
    },
    {
      "cell_type": "markdown",
      "metadata": {
        "id": "qlLjQRYwJZ25"
      },
      "source": [
        "## Aggregation Model 2: GGNN"
      ]
    },
    {
      "cell_type": "code",
      "metadata": {
        "id": "viJbSNfvJY34"
      },
      "source": [
        "# Input layer\n",
        "data = keras.Input(batch_shape=(None,)) # [num_nodes, ]\n",
        "\n",
        "# the first dim is different to the previous one. it is the total number of edges in this batch\n",
        "edge = keras.Input(batch_shape=(None, 2), dtype=tf.int32) # [num_edges, 2]\n",
        "node2graph = keras.Input(batch_shape=(None,), dtype=tf.int32) # [num_nodes,]\n",
        "\n",
        "embedded = Embedding(tokenizer.num_words, 20)(data) # [num_nodes, 20]\n",
        "\n",
        "# number of graphs (number of samples)\n",
        "num_graph = tf.reduce_max(node2graph)+1 \n",
        "\n",
        "gnn_input = GNNInput(\n",
        "    node_features=embedded, # original representation of each node in the graph\n",
        "    adjacency_lists=(edge,), # edges as adjacency list (e.g. [a,b] is an edge from node a to node b)\n",
        "    node_to_graph_map=node2graph, # node_to_graph_map[v] = i means that node v belongs to graph i in the batch\n",
        "    num_graphs=num_graph, # number of graphs in a batch\n",
        ")\n",
        "\n",
        "# https://github.com/microsoft/tf2-gnn/blob/master/tf2_gnn/layers/gnn.py\n",
        "params = GNN.get_default_hyperparameters()\n",
        "params[\"num_layers\"] = 5                        # Number of layers in GNN\n",
        "params[\"message_calculation_class\"] = \"ggnn\"    # Aggregation method\n",
        "params[\"hidden_dim\"] = 8                        # Number of nodes/neurons in the hidden layers\n",
        "gnn_layer = GNN(params) \n",
        "gnn_out = gnn_layer(gnn_input) # [num_nodes, hidden_dim]\n",
        "\n",
        "print('gnn_out:', gnn_out)\n",
        "\n",
        "# https://www.tensorflow.org/api_docs/python/tf/math/segment_mean\n",
        "avg = segment_mean(\n",
        "    data=gnn_out,\n",
        "    segment_ids=node2graph\n",
        ") # [batch_size, hidden_dim]\n",
        "print('mean:', avg)\n",
        "\n",
        "pred = Dense(1, activation='sigmoid')(avg) # [None, 1]\n",
        "print('pred:', pred)\n",
        "\n",
        "model = Model(\n",
        "    inputs={\n",
        "        'data': data,\n",
        "        'edges': edge,\n",
        "        'node2graph': node2graph,\n",
        "    },\n",
        "    outputs=pred,\n",
        "    name='GGNN_4'\n",
        ")\n",
        "\n",
        "model.compile(\n",
        "    loss='BinaryCrossentropy',\n",
        "    metrics=['AUC']\n",
        ")\n",
        "\n",
        "model.summary()"
      ],
      "execution_count": null,
      "outputs": []
    },
    {
      "cell_type": "code",
      "metadata": {
        "id": "EdQFNQyAJkMf"
      },
      "source": [
        "print(\"Training: \", model.name)\n",
        "batch_size = 32\n",
        "num_batchs = math.ceil(len(training_set) / batch_size)\n",
        "num_batchs_validation = math.ceil(len(validation_set) / batch_size)\n",
        "\n",
        "epochs = 80\n",
        "\n",
        "history = model.fit(\n",
        "    gen_batch(\n",
        "        training_set, batch_size=batch_size, repeat=True\n",
        "    ),\n",
        "    steps_per_epoch=num_batchs,\n",
        "    epochs=epochs,\n",
        "    validation_data=gen_batch(\n",
        "        validation_set, batch_size=batch_size, repeat=True\n",
        "    ),\n",
        "    validation_steps=num_batchs_validation,\n",
        ")"
      ],
      "execution_count": null,
      "outputs": []
    },
    {
      "cell_type": "markdown",
      "metadata": {
        "id": "iLHDvPmwvqOu"
      },
      "source": [
        "## Aggregation Model 3: RGAT"
      ]
    },
    {
      "cell_type": "code",
      "metadata": {
        "id": "aDKbr2uzvpW9"
      },
      "source": [
        "# Input layer\n",
        "data = keras.Input(batch_shape=(None,)) # [num_nodes, ]\n",
        "\n",
        "# the first dim is different to the previous one. it is the total number of edges in this batch\n",
        "edge = keras.Input(batch_shape=(None, 2), dtype=tf.int32) # [num_edges, 2]\n",
        "node2graph = keras.Input(batch_shape=(None,), dtype=tf.int32) # [num_nodes,]\n",
        "\n",
        "embedded = Embedding(tokenizer.num_words, 20)(data) # [num_nodes, 20]\n",
        "\n",
        "# number of graphs (number of samples)\n",
        "num_graph = tf.reduce_max(node2graph)+1 \n",
        "\n",
        "gnn_input = GNNInput(\n",
        "    node_features=embedded, # original representation of each node in the graph\n",
        "    adjacency_lists=(edge,), # edges as adjacency list (e.g. [a,b] is an edge from node a to node b)\n",
        "    node_to_graph_map=node2graph, # node_to_graph_map[v] = i means that node v belongs to graph i in the batch\n",
        "    num_graphs=num_graph, # number of graphs in a batch\n",
        ")\n",
        "\n",
        "# https://github.com/microsoft/tf2-gnn/blob/master/tf2_gnn/layers/gnn.py\n",
        "params = GNN.get_default_hyperparameters()\n",
        "params[\"num_layers\"] = 2                        # Number of layers in GNN\n",
        "params[\"message_calculation_class\"] = \"rgat\"    # Aggregation method\n",
        "params[\"num_heads\"] = 32                        # heads for multi-head attention (I think?)\n",
        "params[\"hidden_dim\"] = 32                       # Number of nodes/neurons in the hidden layers\n",
        "gnn_layer = GNN(params) \n",
        "gnn_out = gnn_layer(gnn_input) # [num_nodes, hidden_dim]\n",
        "\n",
        "print('gnn_out:', gnn_out)\n",
        "\n",
        "# https://www.tensorflow.org/api_docs/python/tf/math/segment_mean\n",
        "avg = segment_mean(\n",
        "    data=gnn_out,\n",
        "    segment_ids=node2graph\n",
        ") # [batch_size, hidden_dim]\n",
        "print('mean:', avg)\n",
        "\n",
        "pred = Dense(1, activation='sigmoid')(avg) # [None, 1]\n",
        "print('pred:', pred)\n",
        "\n",
        "model = Model(\n",
        "    inputs={\n",
        "        'data': data,\n",
        "        'edges': edge,\n",
        "        'node2graph': node2graph,\n",
        "    },\n",
        "    outputs=pred,\n",
        "    name='RGAT_4'\n",
        ")\n",
        "\n",
        "model.compile(\n",
        "    loss='BinaryCrossentropy',\n",
        "    metrics=['AUC']\n",
        ")\n",
        "\n",
        "model.summary()"
      ],
      "execution_count": null,
      "outputs": []
    },
    {
      "cell_type": "code",
      "metadata": {
        "id": "6-vejw7rwDpm"
      },
      "source": [
        "print(\"Training: \", model.name)\n",
        "batch_size = 32\n",
        "num_batchs = math.ceil(len(training_set) / batch_size)\n",
        "num_batchs_validation = math.ceil(len(validation_set) / batch_size)\n",
        "\n",
        "epochs = 15\n",
        "\n",
        "history = model.fit(\n",
        "    gen_batch(\n",
        "        training_set, batch_size=batch_size, repeat=True\n",
        "    ),\n",
        "    steps_per_epoch=num_batchs,\n",
        "    epochs=epochs,\n",
        "    validation_data=gen_batch(\n",
        "        validation_set, batch_size=batch_size, repeat=True\n",
        "    ),\n",
        "    validation_steps=num_batchs_validation,\n",
        ")"
      ],
      "execution_count": null,
      "outputs": []
    },
    {
      "cell_type": "markdown",
      "metadata": {
        "id": "lgevd_Q-CuGF"
      },
      "source": [
        "# Model Visualization"
      ]
    },
    {
      "cell_type": "code",
      "metadata": {
        "colab": {
          "base_uri": "https://localhost:8080/",
          "height": 295
        },
        "id": "MJxks4ziUqDf",
        "outputId": "d1e01a4d-38b8-4278-967b-94597715a9cb"
      },
      "source": [
        "# Create AUC metric vs. epoch plot\n",
        "plt.plot(history.history['auc'])\n",
        "plt.plot(history.history['val_auc'])\n",
        "plt.title('model accuracy - ' + model.name)\n",
        "plt.ylabel('AUC')\n",
        "plt.xlabel('epoch')\n",
        "plt.legend(['train', 'validation'], loc='upper left')\n",
        "plt.show()"
      ],
      "execution_count": 17,
      "outputs": [
        {
          "output_type": "display_data",
          "data": {
            "image/png": "[encoded data removed]",
            "text/plain": [
              "<Figure size 432x288 with 1 Axes>"
            ]
          },
          "metadata": {
            "tags": [],
            "needs_background": "light"
          }
        }
      ]
    },
    {
      "cell_type": "markdown",
      "metadata": {
        "id": "9g3p6Wt5Pamp"
      },
      "source": [
        "# Model Testing and Output"
      ]
    },
    {
      "cell_type": "code",
      "metadata": {
        "id": "P9xNaU9Q_jv-"
      },
      "source": [
        "# Run test data through trained network\n",
        "y_pred = model.predict(\n",
        "    # Generate batches for the test data with batches the same size as the training\n",
        "    gen_batch(testing_set, batch_size=batch_size, shuffle=False)\n",
        ")\n",
        "y_pred = np.reshape(y_pred, -1)"
      ],
      "execution_count": 18,
      "outputs": []
    },
    {
      "cell_type": "code",
      "metadata": {
        "id": "AJNzmysH_jv-"
      },
      "source": [
        "# Confirming the length of predictions are correct\n",
        "len(y_pred) "
      ],
      "execution_count": null,
      "outputs": []
    },
    {
      "cell_type": "code",
      "metadata": {
        "id": "gYeF6yAu_jv-"
      },
      "source": [
        "# Setting up file name\n",
        "output_name = model.name + \"_lay_\" + str(params[\"num_layers\"]) + \"_bch_\" + str(batch_size) + \"_epc_\" + str(epochs) + \".csv\"\n",
        "\n",
        "# Set up output into pandas dataframe in the correct format\n",
        "submission = pd.DataFrame({'label':y_pred})\n",
        "submission.index.name = 'id'\n",
        "# Output file for submission\n",
        "submission.to_csv(output_name)"
      ],
      "execution_count": 19,
      "outputs": []
    }
  ]
}