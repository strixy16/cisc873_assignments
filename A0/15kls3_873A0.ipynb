{
  "cells": [
    {
      "cell_type": "markdown",
      "metadata": {
        "id": "yAdwIQeMwf_i"
      },
      "source": [
        "# CISC873 F20 Assignment 0\n",
        "## Katy Scott - 15kls3 - 20009328"
      ]
    },
    {
      "cell_type": "markdown",
      "metadata": {
        "id": "TeQ0mzMWq03f"
      },
      "source": [
        "*Note: must upload train.csv and test.csv manually before running*"
      ]
    },
    {
      "cell_type": "code",
      "execution_count": 1,
      "metadata": {
        "id": "yXtSlRVFNRI5"
      },
      "outputs": [],
      "source": [
        "import math\n",
        "import matplotlib as mpl\n",
        "import matplotlib.pyplot as plt\n",
        "import numpy as np\n",
        "import pandas as pd\n",
        "from scipy import stats\n",
        "import seaborn as sns\n",
        "import sklearn as sk\n",
        "from sklearn.preprocessing import StandardScaler\n",
        "from sklearn.model_selection import KFold\n",
        "from sklearn.neural_network import MLPClassifier\n",
        "from sklearn.metrics import f1_score\n",
        "from sklearn import svm\n",
        "from sklearn.ensemble import RandomForestClassifier\n",
        "from sklearn.model_selection import train_test_split"
      ]
    },
    {
      "cell_type": "markdown",
      "metadata": {
        "id": "W6NXcncQYUZF"
      },
      "source": [
        "# Functions 🔢\n",
        "\n",
        "For the preprocessing step, things I found to be lengthy to write twice for training and testing I made into functions for readability."
      ]
    },
    {
      "cell_type": "code",
      "execution_count": 6,
      "metadata": {
        "id": "90EQPl1VumjS"
      },
      "outputs": [],
      "source": [
        "def impute_and_encode_category(df, feature):\n",
        "# Function to impute a string feature with it's most common value, convert it\n",
        "# to a category, and encode it as integers.\n",
        "# INPUT:     df - pandas dataframe, dataframe with feature to be processed\n",
        "#       feature - string, column name of feature to be processed\n",
        "# OUTPUT:    df - pandas dataframe with feature imputed and encoded to int\n",
        "\n",
        "# 2020-10-01 Updated to be simpler, imputation can be done in one line\n",
        "\n",
        "  # Imputes using mode of feature\n",
        "  df[feature] = df[feature].fillna(df[feature].mode()[0])\n",
        "\n",
        "  # Convert to categorical type\n",
        "  df[feature] = df[feature].astype('category')\n",
        "\n",
        "  # Encode the categories as int8\n",
        "  df[feature] = df[feature].cat.codes\n",
        "\n",
        "  return df"
      ]
    },
    {
      "cell_type": "code",
      "execution_count": 7,
      "metadata": {
        "id": "6cFfyv0tYW_T"
      },
      "outputs": [],
      "source": [
        "def scale_standard_return_df(df, cols_to_scale=[]):\n",
        "# Function that scales data with Standard Scaler and returns the scaled data \n",
        "# frame. Can scale all data in a dataframe or specified columns.\n",
        "# INPUT:           df - pandas df, dataframe to be scaled\n",
        "#       cols_to_scale - list of strings, column names to be scaled\n",
        "# OUTPUT:   scaled_df - df with all columns scaled (if cols_to_scale is empty)\n",
        "#                  df - df with specified columns scaled\n",
        "\n",
        "# 2020-10-02 Updated to handle scaling all data or just some columns\n",
        "\n",
        "  # Initialize scaler\n",
        "  scaler = StandardScaler()\n",
        "  \n",
        "  if not cols_to_scale:\n",
        "    # Scaling all the data\n",
        "    # Scale data in dataframe, creates an array\n",
        "    scaled_arr = scaler.fit_transform(df)\n",
        "    # Get column names from dataframe input\n",
        "    column_names = df.columns\n",
        "    # Convert back scaled data back to dataframe\n",
        "    scaled_df = pd.DataFrame(scaled_arr, columns=column_names)\n",
        "    \n",
        "    return scaled_df\n",
        "\n",
        "  else:\n",
        "    # Scale specified columns\n",
        "    df[cols_to_scale] = scaler.fit_transform(df[cols_to_scale])\n",
        "\n",
        "    return df"
      ]
    },
    {
      "cell_type": "markdown",
      "metadata": {
        "id": "RgN20FxyWUfl"
      },
      "source": [
        "# Data Loading and Setup 📤\n",
        "\n",
        "Here I load in the train and test sets from the provided csv files. \n",
        "I extract the ID and rating columns from the training set, and convert both to data frames. I also convert the rating to a numpy array for the modelling section."
      ]
    },
    {
      "cell_type": "markdown",
      "metadata": {
        "id": "xzJWWk0mFXjB"
      },
      "source": [
        "## Training Set"
      ]
    },
    {
      "cell_type": "code",
      "execution_count": 2,
      "metadata": {
        "id": "ymPmWZVkNt8_"
      },
      "outputs": [],
      "source": [
        "# Set up the training set\n",
        "train_set = pd.read_csv('train_new.csv')\n",
        "\n",
        "# Take out rating column and make it's own dataframe\n",
        "col_rating = train_set['rating']\n",
        "df_rating = col_rating.to_frame()\n",
        "\n",
        "# Remove ID from training\n",
        "train_noID = train_set.drop(columns=['id'])\n",
        "\n",
        "# Remove rating column \n",
        "train = train_noID.drop(columns=['rating'])"
      ]
    },
    {
      "cell_type": "markdown",
      "metadata": {
        "id": "iDesJhApFVfi"
      },
      "source": [
        "## Testing Set"
      ]
    },
    {
      "cell_type": "code",
      "execution_count": 3,
      "metadata": {
        "id": "IloAI1n0rWqn"
      },
      "outputs": [],
      "source": [
        "# Set up the testing set\n",
        "test_set = pd.read_csv('test_new.csv')\n",
        "\n",
        "# Take out ID \n",
        "test_ID = test_set['id'].to_numpy()\n",
        "test = test_set.drop(columns=['id'])"
      ]
    },
    {
      "cell_type": "markdown",
      "metadata": {
        "id": "G4elfz9RF04T"
      },
      "source": [
        "# Data Exploration 🗺\n",
        "\n",
        "🔍 Started with studying the correlation heat map and noted the features that had any correlation with rating as well as any combinations with correlation greater than 0.5\n",
        "\n",
        "🔍 Used this list to begin deciding which attributes could be removed during preprocessing. \n",
        "\n",
        "🔍 Noticed that the heat map was missing some of the features\n",
        "\n",
        "🔍 Switched to examining the data in Microsoft Excel so I could get a sense of the different data types and see if any of the non-numeric features were worth further investigation. \n",
        "\n",
        "🔍 Began a list of features that I planned to remove:\n",
        "> 🔎 String features that would not easily convert to categories (ex. tags)\n",
        "\n",
        "> 🔎 Redundant features that could be represented by another feature (ex. Urgency text)\n",
        "\n",
        "> 🔎 Features that had no relation to the rating (ex. crawl month). \n",
        "\n",
        "🔍 Once I had narrowed down my feature selection, I began looking for features with missing or NaN values. \n",
        "> 🔎 Found origin_country and has_urgency_banner\n",
        "\n",
        "> 🔎 Need to fill these in.\n",
        "\n",
        "🔍 I moved onto preprocessing at this point, but ended up coming back to look at the distributions of the features when I was trying to figure out scaling\n",
        "\n",
        "\n",
        "\n"
      ]
    },
    {
      "cell_type": "code",
      "execution_count": 8,
      "metadata": {
        "colab": {
          "base_uri": "https://localhost:8080/",
          "height": 423
        },
        "id": "40zMr_36HCgx",
        "outputId": "a0e88b21-61a6-4cf4-de2f-1e2ca626feaf"
      },
      "outputs": [
        {
          "data": {
            "text/plain": [
              "<matplotlib.axes._subplots.AxesSubplot at 0x7f995b8d9c18>"
            ]
          },
          "execution_count": 8,
          "metadata": {
            "tags": []
          },
          "output_type": "execute_result"
        },
        {
          "data": {
            "image/png": "[encoded data removed]",
            "text/plain": [
              "<Figure size 432x288 with 2 Axes>"
            ]
          },
          "metadata": {
            "needs_background": "light",
            "tags": []
          },
          "output_type": "display_data"
        }
      ],
      "source": [
        "# Correlation heat map between all numeric attributes\n",
        "sns.heatmap(data=train_noID.corr().round(1), annot=True)"
      ]
    },
    {
      "cell_type": "code",
      "execution_count": null,
      "metadata": {
        "id": "8QfUMa0uGTTT"
      },
      "outputs": [],
      "source": [
        "# Calculating correlation between rating and other attributes\n",
        "train.corrwith(col_rating)"
      ]
    },
    {
      "cell_type": "code",
      "execution_count": null,
      "metadata": {
        "id": "BQytaT4_HKmu"
      },
      "outputs": [],
      "source": [
        "# Checking if features have any missing values (manually replacing attribute)\n",
        "train_set['merchant_rating'].isnull().any()"
      ]
    },
    {
      "cell_type": "code",
      "execution_count": null,
      "metadata": {
        "id": "S4PrDDMYHQHj"
      },
      "outputs": [],
      "source": [
        "# Looking at distribution of features\n",
        "sns.distplot(train['price'])"
      ]
    },
    {
      "cell_type": "markdown",
      "metadata": {
        "id": "uwAyfTWzWYmn"
      },
      "source": [
        "# Data Preprocessing 🗂\n",
        "For all my preprocessing techniques, I do some preliminary data cleaning 🛁."
      ]
    },
    {
      "cell_type": "markdown",
      "metadata": {
        "id": "vmutDtzUMocn"
      },
      "source": [
        "❌ Remove single rating outlier before any preprocessing."
      ]
    },
    {
      "cell_type": "code",
      "execution_count": 9,
      "metadata": {
        "id": "XMixbvOLxEx9"
      },
      "outputs": [],
      "source": [
        "# Removing outlier rating\n",
        "# Find index of outlier  rating\n",
        "outlier_index = df_rating[df_rating['rating'] > 5].index[0]\n",
        "\n",
        "# Drop that index from the ratings dataframe\n",
        "df_rating.drop(outlier_index, inplace=True)\n",
        "arr_rating = df_rating['rating'].to_numpy()\n",
        "\n",
        "# Drop that index from the features dataframe\n",
        "train.drop(outlier_index, inplace=True)\n"
      ]
    },
    {
      "cell_type": "markdown",
      "metadata": {
        "id": "zLO4cr1TMsGH"
      },
      "source": [
        "❌ Remove the features I had chosen in the exploration 🗺 stage."
      ]
    },
    {
      "cell_type": "code",
      "execution_count": 10,
      "metadata": {
        "id": "W-KpxLojSUCP"
      },
      "outputs": [],
      "source": [
        "# Removing redundant/unneeded columns\n",
        "redundant_attr = ['tags', 'urgency_text', 'merchant_title', 'merchant_name', \n",
        "                  'merchant_has_profile_picture', 'merchant_profile_picture',\n",
        "                  'merchant_info_subtitle', 'merchant_id', 'theme', \n",
        "                  'crawl_month', 'product_color', 'product_variation_size_id', \n",
        "                  'product_variation_inventory', 'shipping_option_name',\n",
        "                  'currency_buyer']\n",
        "train_noRed = train.drop(columns=redundant_attr)\n",
        "test_noRed = test.drop(columns=redundant_attr)"
      ]
    },
    {
      "cell_type": "markdown",
      "metadata": {
        "id": "8Nbn6-EAMzoy"
      },
      "source": [
        "🔘 Filled in the missing or NaN values for origin_country and has_urgency_banner\n",
        "*  Used the most frequent value for origin_country because I planned to categorize it so using an average wouldn’t make sense\n",
        "*  Has_urgency_banner is Boolean feature and the missing values are all false so I filled them in as zeros"
      ]
    },
    {
      "cell_type": "code",
      "execution_count": 11,
      "metadata": {
        "id": "RwaCCxWeTXl8"
      },
      "outputs": [],
      "source": [
        "# Filling in NaN values\n",
        "# Clean origin country by replacing NaN with most frequent value\n",
        "train_cleaning = impute_and_encode_category(train_noRed, 'origin_country')\n",
        "test_cleaning = impute_and_encode_category(test_noRed, 'origin_country')\n",
        "\n",
        "# Clean has_urgency_banner by replacing NaN with 0s\n",
        "train_cleaned = train_cleaning.fillna({\"has_urgency_banner\": 0})\n",
        "test_cleaned = test_cleaning.fillna({\"has_urgency_banner\": 0})"
      ]
    },
    {
      "cell_type": "markdown",
      "metadata": {
        "id": "zPNlisyd0D2p"
      },
      "source": [
        "#Technique 0️⃣\n",
        "Tried with no scaling - just used train_cleaned and test_cleaned"
      ]
    },
    {
      "cell_type": "markdown",
      "metadata": {
        "id": "LTS9SunCwBvX"
      },
      "source": [
        "## Technique 1️⃣ - Scaling all data\n",
        "For my first technique, I chose to scale all the data regardless of data type. I used the scikit learn Standard Scaler in a function I made.\n",
        "\n",
        "At this point, I was choosing simple preprocessing as I wanted to get through the modelling stage and have one version of my script complete.\n",
        "The results I got using this technique were better than I expected for a first choice. "
      ]
    },
    {
      "cell_type": "code",
      "execution_count": 12,
      "metadata": {
        "id": "pKaM7ScTVaQm"
      },
      "outputs": [],
      "source": [
        "# Scaling all data\n",
        "train_scaled = scale_standard_return_df(train_cleaned)\n",
        "test_scaled = scale_standard_return_df(test_cleaned)"
      ]
    },
    {
      "cell_type": "markdown",
      "metadata": {
        "id": "kqnSC7-JwWa_"
      },
      "source": [
        "## Technique 2️⃣ - Scaling some of the data\n",
        "Once I had figured out my modelling, training, validation, and testing process, I went back to look at other preprocessing techniques. When I was reviewing my data, I realized that I had been scaling categorical and boolean features. So in this second technique, the only change I made was to exclude those and only scale the remaining numeric attributes. I chose to scale all the numeric attributes after examining their distributions again in the data exploration stage and found that they were all skewed in some way.\n",
        "\n",
        "This improved the results I got from technique 1."
      ]
    },
    {
      "cell_type": "code",
      "execution_count": 13,
      "metadata": {
        "id": "NO3lV9xxnw-m"
      },
      "outputs": [],
      "source": [
        "# Scaling some data\n",
        "# Attributes to NOT scale: uses_ad_boosts, badges_count, badge_local_product, \n",
        "#                          badge_product_quality, badge_fast_shipping, \n",
        "#                          has_urgency_banner, origin_country\n",
        "cols_to_scale = ['price', 'retail_price', 'units_sold', 'rating_count', \n",
        "                 'countries_shipped_to', 'inventory_total', \n",
        "                 'merchant_rating_count', 'merchant_rating']\n",
        "train_some_scaled = scale_standard_return_df(train_cleaned, cols_to_scale)\n",
        "test_some_scaled = scale_standard_return_df(test_cleaned, cols_to_scale)"
      ]
    },
    {
      "cell_type": "markdown",
      "metadata": {
        "id": "1GTLZg-ywvVC"
      },
      "source": [
        "## Technique 3️⃣ - Correlation based feature selection\n",
        "Lastly I decided to explore what would happen if I pruned my data further based on correlations. "
      ]
    },
    {
      "cell_type": "code",
      "execution_count": 14,
      "metadata": {
        "id": "X_XmGSCjkMxK"
      },
      "outputs": [],
      "source": [
        "# Correlation analysis\n",
        "# Removing more based on correlation\n",
        "# Get series of booleans if absolute correlation with rating is greater than 0.1\n",
        "train_highcorr_cols = train_some_scaled.corrwith(col_rating).abs() > 0.1\n",
        "# Get columns with high correlation in a numpy array\n",
        "arr_highcorr_cols = train_highcorr_cols[train_highcorr_cols].index.values\n",
        "# Drop columns that don't have high enough correlation\n",
        "train_highcorr = train_some_scaled.drop(\n",
        "                columns=train_some_scaled.columns.difference(arr_highcorr_cols))\n",
        "test_highcorr = test_some_scaled.drop(\n",
        "                 columns=test_some_scaled.columns.difference(arr_highcorr_cols))"
      ]
    },
    {
      "cell_type": "markdown",
      "metadata": {
        "id": "XGLuxX17KajB"
      },
      "source": [
        "#Problem Formulation ➕➖➗✖️\n",
        "💁🏻‍♀️ **Define the problem:** Goal is to predict product ratings given other features known for a product on Wish.com\n",
        "\n",
        "💁🏻‍♀️ **Input**: Data with unknown rating levels and other features known about them\n",
        "\n",
        "💁🏻‍♀️ **Output**: Prediction of rating level\n",
        "\n",
        "💁🏻‍♀️ **What data mining function is required?:** Classification\n",
        "\n",
        "💁🏻‍♀️ **What could be the challenges?:**\n",
        "\n",
        "*   Outliers/noisy data skewing results\n",
        "*   Lots of models to choose from\n",
        "*   Lots of parameters to tune on those models\n",
        "\n"
      ]
    },
    {
      "cell_type": "markdown",
      "metadata": {
        "id": "8EaKwIe0ZRX5"
      },
      "source": [
        "# Model Creation and Tuning 🎛\n",
        "\n",
        "Short version of what I did: \n",
        "\n",
        "🎚 Started with default arguments\n",
        "\n",
        "🎚 Tried raising and lowering the defaults\n",
        "\n",
        "🎚 Found out that defaults worked better than anything I could come up with (with one exception)\n",
        "\n",
        "🎚 Most of the time my tuning ended up overfitting the model\n",
        "\n",
        "*Note: The models in the code are the 5 variants I submitted to kaggle.*"
      ]
    },
    {
      "cell_type": "markdown",
      "metadata": {
        "id": "atY8DDpEvcla"
      },
      "source": [
        "##🥅 Neural Network - Multi-layer Perceptron Classifier 🥅"
      ]
    },
    {
      "cell_type": "markdown",
      "metadata": {
        "id": "IrpSuHAKevVI"
      },
      "source": [
        "\n",
        "\n",
        "🧠 Chose this as my first model because I've worked with neural networks before\n",
        "\n",
        "🧠 Started with all default arguments to get a baseline\n",
        "\n",
        "🧠 Immediately got convergence warnings, so increased the max_iter argument until that went away\n",
        "* Default = 200\n",
        "* Tried 500, 1000, 5000\n",
        "\n",
        "🧠 Once I had no more convergence warning, worked through some other arguments by trying values above and below the default to see what would happen.\n",
        "> 🧠 alpha\n",
        "* Default = 0.0001\n",
        "*  0.001 - had higher train score, but lower test score\n",
        "*  0.00001 - raised train score but lowered test score\n",
        "\n",
        "> Thought that lower alpha meant it would take longer to train, so tried raising the number of iterations.\n",
        "\n",
        ">*  0.00001 with more iterations 7000/10000 - improved train but not test\n",
        "* revert back to 5000\n",
        "\n",
        "> 🧠 hidden_layer_sizes\n",
        "* Default = (100,)\n",
        "* (100,5) - same result as with alpha tuning, get higher train but lower test\n",
        "* (100, 100, 5) - training got really good, test got even worse\n",
        "* (50,) - maybe going the other direction will help? → train is better than default but not as good as other tuning, but testing is almost at 70s\n",
        "* (50,50) - try adding another layer of the same size, might overfit again → Did exactly that\n",
        "* (50,5) - try a smaller second layer → brought training down a little, test still in low 60s\n",
        "* (20, 7, 5, 1) - got these numbers from an old classification problem I practiced on → brought train back down closer to test, test almost breaking 70\n",
        "* (20, 7, 5) - improved train to mid 80s, test still 60s\n",
        "\n",
        "> Decided to try tuning alpha along with these smaller layer sizes to see if it would make a difference.\n",
        "* (20, 7, 5) w/ alpha=0.001 - improved train score and test score slightly, now high 60s\n",
        "* (10, 7, 5) - good\n",
        "\n",
        "> Then decided to reduce iterations again since I reduced alpha\n",
        "* (10, 7, 5) w/ 2500 + alpha=0.001 iterations - good\n",
        "* (10, 7, 5) w/ 5000 + alpha=0.0001 - better\n",
        "* (10, 7, 5, 1) - good too\n",
        "\n",
        "> 🧠 Solver\n",
        "* Default = adam\n",
        "* Tried sgd so I could use momentum\n",
        "* sgd ran slower than adam\n",
        "\n",
        "> 🧠 Momentum\n",
        "* Default = 0.9\n",
        "* 0.7 - worsened results \n",
        "* 0.95 - slightly better variance\n",
        "* 0.98 - very slow\n",
        "\n"
      ]
    },
    {
      "cell_type": "code",
      "execution_count": null,
      "metadata": {
        "id": "tZc8DB1VUJxr"
      },
      "outputs": [],
      "source": [
        "# MLP CLASSIFIER MODELS\n",
        "# Model 1 - MLP Classifier with defaults\n",
        "model = MLPClassifier()\n",
        "\n",
        "# Model 2\n",
        "# model = MLPClassifier(max_iter=5000)\n",
        "\n",
        "# Model 3\n",
        "# model = MLPClassifier(hidden_layer_sizes=(150, 100, 50), max_iter=5000)\n",
        "\n",
        "# Model 4\n",
        "# model = MLPClassifier(hidden_layer_sizes=(150,), solver='sgd', max_iter=5000 )\n",
        "\n",
        "# Model 5\n",
        "# model = MLPClassifier(hidden_layer_sizes=(150,), solver='sgd', \n",
        "#                       max_iter=5000, momentum=0.95)"
      ]
    },
    {
      "cell_type": "markdown",
      "metadata": {
        "id": "qtnSEIJTe1dD"
      },
      "source": [
        "##🚜 Support Vector Machine - Support Vector Classifier 🚜"
      ]
    },
    {
      "cell_type": "markdown",
      "metadata": {
        "id": "7MxvI2Tq3HU_"
      },
      "source": [
        "🏗 I'm not as familiar with SVM\n",
        "\n",
        "🏗 Looked for a tutorial and found this one: https://towardsdatascience.com/multiclass-classification-with-support-vector-machines-svm-kernel-trick-kernel-functions-f9d5377d6f02)\n",
        "\n",
        "🏗 Tutorial showed four kernel functions so decided to start with those four as my variants\n",
        "\n",
        "🏗 Started with the default for all parameters\n",
        "* Changed the decision function shape from one-versus-rest to one-versus-one, but got the same result\n",
        "\n",
        "🏗 Linear kernel\n",
        "* I predicted that this would be the worst one\n",
        "* Ended up getting about the same score as the default MLP Classifier\n",
        "\n",
        "🏗 RBF kernel\n",
        "* Default kernel for SVC\n",
        "* Tried to tune the gamma parameter\n",
        "\n",
        "🏗 Polynomial kernel\n",
        "* Ended up being the best of the four\n",
        "* Spent more time trying to tune this model\n",
        "* Adjusted degree\n",
        "** Tried 2, 3, and 4\n",
        "** 3 ended up returning the best results\n",
        "** 4 overfit the model, as expected\n",
        "* Tried adjusting C \n",
        "** Lowering C any further than 0.8 had negative results\n",
        "** Raised C to 2 but ended up overfitting model\n",
        "\n",
        "🏗 Sigmoid kernel\n",
        "* Only tried the default\n",
        "* Validation results were the worst of this bunch \n",
        "* Chose not to submit to Kaggle, chose to submit second polynomial model instead\n",
        "\n",
        "\n"
      ]
    },
    {
      "cell_type": "code",
      "execution_count": null,
      "metadata": {
        "id": "FrHum-dBtgLb"
      },
      "outputs": [],
      "source": [
        "# SVC models\n",
        "# Model 1\n",
        "model = svm.SVC()\n",
        "\n",
        "# Trying different kernel functions\n",
        "# Model 2 - Linear kernel\n",
        "# model = svm.SVC(kernel='linear', C=1, decision_function_shape='ovo')\n",
        "\n",
        "# Model 3 - RBF kernel with gamma\n",
        "# model = svm.SVC(kernel='rbf', gamma=2, C=1, decision_function_shape='ovo')\n",
        "\n",
        "# Model 4 - Polynomial\n",
        "# model = svm.SVC(kernel='poly', degree=3, C=1, decision_function_shape='ovo')\n",
        "\n",
        "# Model 5 - Polynomial with C=2\n",
        "# model = svm.SVC(kernel='poly', degree=3, C=2, decision_function_shape='ovo')"
      ]
    },
    {
      "cell_type": "markdown",
      "metadata": {
        "id": "Zm7wwn4QfESo"
      },
      "source": [
        "##🌲 Random Forest Classifier 🌲"
      ]
    },
    {
      "cell_type": "markdown",
      "metadata": {
        "id": "WQckmn6zgUPu"
      },
      "source": [
        "🎲 I chose this model out of the tutorial posted on Kaggle\n",
        "(https://stackabuse.com/classification-in-python-with-scikit-learn-and-pandas/)\n",
        "\n",
        "🎲 As with other two models, began with default\n",
        "\n",
        "🎲 Achieved highest validation scores I'd seen so far\n",
        "\n",
        "🎲 As with the MLP models, worked through some other arguments by trying values above and below the default to see what would happen\n",
        "\n",
        "🎲 n_estimators\n",
        "*  Used 10, 50, 500, and 1000\n",
        "*  Made very little difference to score\n",
        "*  All gave validation results of ~80 for F1 score\n",
        "*  Submitting to Kaggle with 1000 gave better score than default value of 100, so stuck with that\n",
        "\n",
        "🎲 Bootstrap\n",
        "* Saw that bootstrapping was on by default, wanted to see what using the whole dataset would do\n",
        "* My prediction was it would be worse, mostly because the default got such a good score using it\n",
        "* Submitting to Kaggle showed that it did better than the default with 100 n_estimators, but worse than 1000 n_estimators\n",
        "\n",
        "🎲 max_depth\n",
        "* Thought this would have a visible impact on the result\n",
        "* Predicted that setting this to a low value would make the scores worse since the tree would be limited\n",
        "* Didn't know how big the tree was getting by default though\n",
        "* max_depth = 10 → lowered training score but had little impact on the testing score in validation\n",
        "* max_depth = 20 and 50 → same results as default settings\n",
        "\n",
        "🎲 criterion\n",
        "* We had discussed entropy in class, so I wanted to try it here\n",
        "* Achieved the same validations here and on Kaggle\n",
        "* Got the smalled standard deviation in the testing validation\n",
        "\n",
        "🎲 Something I noted during all my parameter tuning for these models is that no matter what I changed, the standard deviation for the training validation was always small (< 0.001 mostly)\n"
      ]
    },
    {
      "cell_type": "code",
      "execution_count": null,
      "metadata": {
        "id": "R9UTf46Ev-b_"
      },
      "outputs": [],
      "source": [
        "# Random Forest models\n",
        "# Model 1\n",
        "model = RandomForestClassifier()\n",
        "# Model 2\n",
        "# model = RandomForestClassifier(n_estimators=1000)\n",
        "# Model 3\n",
        "# model = RandomForestClassifier(n_estimators=1000, bootstrap=False)\n",
        "# Model 4\n",
        "# model = RandomForestClassifier(n_estimators=500, criterion='entropy', \n",
        "#                                max_depth=50)\n",
        "# Model 5 \n",
        "# model = RandomForestClassifier(n_estimators=1000, max_depth=50)\n"
      ]
    },
    {
      "cell_type": "markdown",
      "metadata": {
        "id": "ppFfL9ZHfmDD"
      },
      "source": [
        "## Validation 📋\n",
        "\n",
        "✔️ I chose to use k-fold validation as my experimental protocol as it is a method I am familiar with. \n",
        "\n",
        "✔️ I remembered that an 80-20 split is common for train-test and it was also the default for the sklearn KFold class, so I went with a k value of 5.\n",
        "\n",
        "✔️ Took the mean and standard deviation of the 5 train and test F1-scores"
      ]
    },
    {
      "cell_type": "code",
      "execution_count": null,
      "metadata": {
        "id": "2CYiaRKNZKRF"
      },
      "outputs": [],
      "source": [
        "# Choosing preprocessing mode for X\n",
        "# Can be set as train_cleaned, train_scaled, train_some_scaled, \n",
        "# or train_highcorr\n",
        "X = train_some_scaled\n",
        "# Using ratings as labels\n",
        "y = arr_rating\n",
        "\n",
        "# Using k-fold cross validation experimental method\n",
        "# https://stackoverflow.com/questions/45115964/separate-pandas-dataframe-using-sklearns-kfold\n",
        "kf = KFold(n_splits = 5, shuffle = True)\n",
        "\n",
        "# Lists to store train and test results from each fold\n",
        "train_results = []\n",
        "test_results = []\n",
        "\n",
        "for ind_train, ind_test in kf.split(X, y):\n",
        "  # Get training data for this fold\n",
        "  train_X = X.iloc[ind_train]\n",
        "  # Get training labels for this fold\n",
        "  train_y = y[ind_train]\n",
        "\n",
        "  # Get testing data for this fold\n",
        "  test_X = X.iloc[ind_test]\n",
        "  # Get testing labels for this fold\n",
        "  test_y = y[ind_test]\n",
        "\n",
        "  # Fit the model to the training data and labels\n",
        "  fold_fit = model.fit(train_X, train_y)\n",
        "  # Run prediction on training data\n",
        "  fold_train_pred = fold_fit.predict(train_X)\n",
        "  # Run prediction on testing data\n",
        "  fold_test_pred = fold_fit.predict(test_X)\n",
        "\n",
        "  # Calculate F1 Mean for training data\n",
        "  # micro argument calculates metrics globally by counting the total true \n",
        "  # positives, false negatives and false positives.\n",
        "  train_f1 = f1_score(train_y, fold_train_pred, average='micro')\n",
        "  # Calculate F1 Mean for testing data\n",
        "  # micro argument calculates metrics globally by counting the total true \n",
        "  # positives, false negatives and false positives.\n",
        "  test_f1 = f1_score(test_y, fold_test_pred, average='micro')\n",
        "\n",
        "  # Add f1 score to result lists\n",
        "  train_results.append(train_f1)\n",
        "  test_results.append(test_f1)\n",
        "\n",
        "# Calculate average and standard deviation of training results across the \n",
        "# k validation runs\n",
        "train_avg = np.round(np.average(train_results),4)\n",
        "train_std = np.round(np.std(train_results),4)\n",
        "\n",
        "# Calculate average and standard deviation of testing results across the \n",
        "# k validation runs\n",
        "test_avg = np.round(np.average(test_results),4)\n",
        "test_std = np.round(np.std(test_results),4)\n",
        "\n",
        "# Printing results for study \n",
        "print(\"Train avg:\", train_avg)\n",
        "print(\"Train std:\", train_std)\n",
        "\n",
        "print(\"Test avg:\", test_avg)\n",
        "print(\"Test std:\", test_std)"
      ]
    },
    {
      "cell_type": "markdown",
      "metadata": {
        "id": "xMNFlb_h0fig"
      },
      "source": [
        "## Applying the Model 📈📉"
      ]
    },
    {
      "cell_type": "code",
      "execution_count": null,
      "metadata": {
        "id": "1qzyPvEtcoFX"
      },
      "outputs": [],
      "source": [
        "# Test set\n",
        "# Can be set as test_cleaned, test_scaled, test_some_scaled, or test_highcorr\n",
        "# Must match what was chosen for X\n",
        "tX = test_some_scaled\n",
        "\n",
        "# Fit model to entire training set\n",
        "whole_NN = model.fit(X, y)\n",
        "# Prediction on training set\n",
        "train_pred = whole_NN.predict(X)\n",
        "\n",
        "# Print out training result for entire training set to compare to validation\n",
        "print(\"Total train:\", f1_score(y, train_pred, average='micro'))\n",
        "\n",
        "# Prediction on test set\n",
        "test_pred = whole_NN.predict(tX)"
      ]
    },
    {
      "cell_type": "markdown",
      "metadata": {
        "id": "rg4wu0XRAH1t"
      },
      "source": [
        "# Output Test Results 💾"
      ]
    },
    {
      "cell_type": "code",
      "execution_count": null,
      "metadata": {
        "id": "UCYz9ezatDaz"
      },
      "outputs": [],
      "source": [
        "# Reshaping prediction and ID from 1D to 2D numpy array\n",
        "test_pred = np.reshape(test_pred, (test_pred.shape[0],1))\n",
        "test_ID = np.reshape(test_ID, (test_ID.shape[0],1))\n",
        "# Put prediction and ID into one numpy array\n",
        "output_arr = np.concatenate((test_ID, test_pred), axis=1)"
      ]
    },
    {
      "cell_type": "code",
      "execution_count": null,
      "metadata": {
        "id": "gXpXNUQvAFDU"
      },
      "outputs": [],
      "source": [
        "# Save out the combined array as a csv with ID as an int and prediction as float \n",
        "# with one decimal place \n",
        "np.savetxt(\"15kls3_rfc5_p2.csv\", output_arr, delimiter=\",\", fmt='%d,%.1f', \n",
        "           header='id,rating', comments='')"
      ]
    },
    {
      "cell_type": "markdown",
      "metadata": {
        "id": "cZTQTGLThLhr"
      },
      "source": [
        "# Questions❓\n",
        "\n",
        "**🌈 Why Data Mining is a misnomer? What is another preferred name?**\n",
        ">Data mining is a misnomer because it focuses on the action of retrieving data rather than the extraction of knowledge or patterns that are interesting. Knowledge discovery in databases is a preferred alternative since it focuses more on the outcome.\n",
        "\n",
        "**🌈 What is the general knowledge discovery process? What is the difference between a data engineer and data scientist/AI engineer?**\n",
        ">The general knowledge discovery process starts with cleaning 🧹and integration of production data to be moved 🏗 into a separate data warehouse 🏭to be used for projects. Once a project has been planned and/or approved 👍, data relevant to the project is selected to be used for data mining ⚒. Data mining leads extracts interesting patterns from this subset of the data and leads to knowledge discovery 🧠🎉✅. Sometimes this knowledge is not exactly what we want, so it is possible to go back and reperform 🔄 some of these steps. For instance, we can tune 🎛 the hyperparameters in the data mining step or request more data 📊 in the selection process.\n",
        "\n",
        ">Data engineers are involved in the collection and storing of data, while data scientist/AI engineers use that data for labelling, learning, and optimizing. This might involve statistical testing and/or building AI models.\n",
        "\n",
        "**🌈 In data mining, what is the difference between prediction and categorization?**\n",
        ">In data mining, prediction and categorization indicate what data type the target attribute is. Prediction is used when target attributes are numeric, and categorization is used for categorical.\n",
        "\n",
        "**🌈 In a linear model, which regularization method encourages sparsity?**\n",
        ">L-1 regularization encourages model sparsity.\n",
        "\n",
        "**🌈 Why we need GD for optimization, rather than simply use linear algebra to solve a simple linear model?**\n",
        ">Linear algebra is not scalable for a large dataset due to the polynomial complexity from the three matrix multiplications and the memory requirement to hold all the data at once. Gradient descent gradually improves the error rates instead of taking one shot at guessing the estimate. It still has polynomial complexity, but it’s assumed that the number of iterations to get to convergence is significantly lesser than the size of the data.\n",
        "\n",
        "**🌈 In terms of bias and variance, defines what is overfitting and under fitting?**\n",
        ">Underfitting occurs when bias is too high. Overfitting occurs when the variance is too high.\n",
        "\n",
        "**🌈 Why data science/machine learning is a bad idea in the context of information security?**\n",
        ">There are a number of threats to information when it is used for data science and machine learning, such as increased risks of data breaches and fines. It is also difficult to evaluate changes in AI since the training process can occur in a “black box” that humans cannot understand or explain. When developing AI for any purpose, responsibility has to be clearly delegated so if something does go wrong, someone is accountable for that.\n",
        "\n"
      ]
    }
  ],
  "metadata": {
    "colab": {
      "collapsed_sections": [
        "G4elfz9RF04T"
      ],
      "name": "15kls3_873A0.ipynb",
      "provenance": []
    },
    "kernelspec": {
      "display_name": "Python 3.8.3 64-bit",
      "language": "python",
      "name": "python3"
    },
    "language_info": {
      "name": "python",
      "version": "3.8.3"
    },
    "vscode": {
      "interpreter": {
        "hash": "aee8b7b246df8f9039afb4144a1f6fd8d2ca17a180786b69acc140d282b71a49"
      }
    }
  },
  "nbformat": 4,
  "nbformat_minor": 0
}
